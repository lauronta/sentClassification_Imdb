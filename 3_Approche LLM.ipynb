{
 "cells": [
  {
   "cell_type": "markdown",
   "metadata": {},
   "source": [
    "# Approche de classification avec un llm en utilisant l'API de ollama"
   ]
  },
  {
   "cell_type": "markdown",
   "metadata": {},
   "source": [
    "## Chargement des données"
   ]
  },
  {
   "cell_type": "code",
   "execution_count": null,
   "metadata": {},
   "outputs": [],
   "source": [
    "from pathlib import Path\n",
    "from dataset import load_data_film\n",
    "\n",
    "\n",
    "DATASET_PATH_TRAIN = Path(\"data/aclImdb/train\")\n",
    "DATASET_PATH_TEST = Path(\"data/aclImdb/test\")\n",
    "\n",
    "NB_DOC_MAX = 1000 # par classe\n",
    "IMDB_CLASSES  = ['neg','pos']\n",
    "VOC_SIZE = 10000\n",
    "BATCH_SIZE = 32\n",
    "\n",
    "\n",
    "txts, files, filelabels = load_data_film(DATASET_PATH_TRAIN, max_size = NB_DOC_MAX)\n",
    "txts_test, files_test, filelabels_test = load_data_film(DATASET_PATH_TEST, max_size = NB_DOC_MAX)"
   ]
  },
  {
   "cell_type": "markdown",
   "metadata": {},
   "source": [
    "## Connexion avec API ollama"
   ]
  },
  {
   "cell_type": "code",
   "execution_count": 27,
   "metadata": {},
   "outputs": [
    {
     "name": "stdout",
     "output_type": "stream",
     "text": [
      "Alex D. Linz replaces Macaulay Culkin as the central figure in the third movie in the Home Alone empire. Four industrial spies acquire a missile guidance system computer chip and smuggle it through an airport inside a remote controlled toy car. Because of baggage confusion, grouchy Mrs. Hess (Marian Seldes) gets the car. She gives it to her neighbor, Alex (Linz), just before the spies turn up. The spies rent a house in order to burglarize each house in the neighborhood until they locate the car. Home alone with the chicken pox, Alex calls 911 each time he spots a theft in progress, but the spies always manage to elude the police while Alex is accused of making prank calls. The spies finally turn their attentions toward Alex, unaware that he has rigged devices to cleverly booby-trap his entire house. Home Alone 3 wasn't horrible, but probably shouldn't have been made, you can't just replace Macauley Culkin, Joe Pesci, or Daniel Stern. Home Alone 3 had some funny parts, but I don't like \n"
     ]
    }
   ],
   "source": [
    "import ollama\n",
    "import re\n",
    "\n",
    "def classification_zero_shot(exemple):\n",
    "    prompt = f\"Give the sentiment of the following text in one word: 'positive' or 'negative' :\\n\\n{exemple}\"\n",
    "    response = ollama.generate(model='qwen:0.5b',prompt=prompt)\n",
    "    pattern = r\"positive|negative\"\n",
    "    match = re.search(\"positive|negative\", response.response, flags=re.I)\n",
    "    if match:\n",
    "        if match.group(0).lower() == \"positive\":\n",
    "            return 1\n",
    "        else : \n",
    "            return 0\n",
    "    return None\n",
    "\n",
    "print(txts[1])\n"
   ]
  },
  {
   "cell_type": "code",
   "execution_count": 26,
   "metadata": {},
   "outputs": [
    {
     "name": "stdout",
     "output_type": "stream",
     "text": [
      "False\n"
     ]
    },
    {
     "data": {
      "text/plain": [
       "GenerateResponse(model='qwen:0.5b', created_at='2025-01-28T15:33:19.873117486Z', done=True, done_reason='stop', total_duration=2979248567, load_duration=60739802, prompt_eval_count=258, prompt_eval_duration=2856000000, eval_count=2, eval_duration=60000000, response='negative', context=[151644, 872, 198, 35127, 279, 25975, 315, 279, 2701, 1467, 304, 825, 3409, 25, 220, 6, 30487, 6, 476, 220, 6, 42224, 6, 220, 25, 198, 198, 40, 6551, 419, 5700, 264, 220, 20, 700, 315, 10526, 56943, 13, 3017, 14602, 374, 537, 311, 20524, 5489, 6, 82, 23611, 11, 1576, 358, 6, 586, 3884, 11, 438, 358, 6, 586, 78569, 2061, 1526, 1008, 6042, 11, 429, 419, 5700, 374, 5008, 25808, 553, 1657, 13, 8325, 11, 432, 374, 537, 5802, 894, 86078, 11, 323, 358, 1977, 419, 1576, 358, 6, 586, 3884, 279, 4024, 22809, 11, 65970, 3187, 11, 323, 419, 5700, 557, 971, 432, 17247, 13, 18765, 421, 498, 1490, 34449, 18337, 7484, 11, 498, 1410, 1075, 432, 13, 1084, 374, 31080, 4152, 311, 279, 1632, 12, 331, 460, 90573, 24554, 11, 3118, 389, 18378, 803, 1091, 389, 36859, 18560, 11, 323, 358, 7503, 429, 862, 13143, 374, 17247, 23922, 13, 1988, 279, 3364, 374, 4302, 1075, 279, 4024, 825, 13, 4695, 11, 358, 3535, 429, 979, 825, 28475, 458, 22809, 14, 76, 19372, 1119, 264, 5700, 11, 825, 1969, 1281, 3654, 4344, 13, 358, 572, 537, 22331, 311, 1490, 279, 29205, 812, 5766, 504, 279, 22809, 11, 7892, 807, 614, 264, 1632, 12, 33400, 291, 3476, 11, 323, 1045, 525, 9428, 27155, 323, 1632, 12, 5799, 1542, 13, 1988, 358, 7838, 1521, 537, 1720, 311, 1490, 37783, 323, 71209, 12, 36369, 4344, 11, 429, 13221, 37239, 279, 4453, 3364, 13, 44516, 879, 525, 27957, 323, 650, 769, 2673, 75995, 266, 151645, 198, 151644, 77091, 198, 42224])"
      ]
     },
     "execution_count": 26,
     "metadata": {},
     "output_type": "execute_result"
    }
   ],
   "source": [
    "classification_zero_shot(txts[102])"
   ]
  },
  {
   "cell_type": "code",
   "execution_count": 30,
   "metadata": {},
   "outputs": [
    {
     "name": "stderr",
     "output_type": "stream",
     "text": [
      "100%|██████████| 10/10 [00:38<00:00,  3.85s/it]"
     ]
    },
    {
     "name": "stdout",
     "output_type": "stream",
     "text": [
      "[0, 0, None, None, 0, 1, 0, 0, 0, 1]\n"
     ]
    },
    {
     "name": "stderr",
     "output_type": "stream",
     "text": [
      "\n"
     ]
    }
   ],
   "source": [
    "from tqdm import tqdm\n",
    "\n",
    "output = []\n",
    "for txt in tqdm(txts[:10]):\n",
    "    output.append(classification_zero_shot(txt))\n",
    "print(output)\n"
   ]
  },
  {
   "cell_type": "markdown",
   "metadata": {},
   "source": [
    "## Performance du modèle 0"
   ]
  },
  {
   "cell_type": "code",
   "execution_count": 37,
   "metadata": {},
   "outputs": [],
   "source": [
    "import random as rd\n",
    "import numpy as np\n",
    "\n",
    "\n",
    "idx = rd.sample([i for i in range(2*NB_DOC_MAX)],100)\n",
    "\n",
    "\n",
    "data = np.array(txts)[idx]\n",
    "labels = np.array(filelabels)[idx]\n",
    "\n"
   ]
  },
  {
   "cell_type": "code",
   "execution_count": 38,
   "metadata": {},
   "outputs": [
    {
     "name": "stderr",
     "output_type": "stream",
     "text": [
      "100%|██████████| 100/100 [06:06<00:00,  3.67s/it]"
     ]
    },
    {
     "name": "stdout",
     "output_type": "stream",
     "text": [
      "[1, None, 0, 0, 0, None, 0, 1, 0, 0, 0, 1, 1, 1, 0, 0, 0, 1, 1, 1, 1, 0, 1, 0, 0, 1, 1, 1, 0, 0, 0, 0, 1, 0, None, None, 1, 1, 0, 1, None, 0, 1, 0, 0, 1, 1, 1, 0, 1, None, 0, 1, None, 1, 1, 0, 0, 1, None, 1, 0, 1, 0, 1, 0, 1, None, 0, 0, None, 0, 1, 1, 1, 0, 1, 1, 1, 0, 1, None, 1, 1, 0, 0, 0, 1, 0, 1, 1, 0, 1, 0, 1, 1, 1, 0, 0, 1]\n"
     ]
    },
    {
     "name": "stderr",
     "output_type": "stream",
     "text": [
      "\n"
     ]
    }
   ],
   "source": [
    "output = np.array([])\n",
    "for txt in tqdm(data):\n",
    "    output.append(classification_zero_shot(txt))\n",
    "print(output)"
   ]
  },
  {
   "cell_type": "code",
   "execution_count": 51,
   "metadata": {},
   "outputs": [],
   "source": [
    "accuracy = (output == labels).sum()/100\n",
    "non_conclusive = (output == None).sum()/100"
   ]
  },
  {
   "cell_type": "markdown",
   "metadata": {},
   "source": [
    "## Campagne de fine-tuning\n",
    "Objectif de la campagne : \n",
    " - tester plusieurs prompts : prompt naif/ prompt généré par chatgpt\n",
    " - format de sorti : text + regexp / json \n",
    " - modèle : qwen / qwen2 / qwen2.5\n"
   ]
  }
 ],
 "metadata": {
  "kernelspec": {
   "display_name": "Python 3",
   "language": "python",
   "name": "python3"
  },
  "language_info": {
   "codemirror_mode": {
    "name": "ipython",
    "version": 3
   },
   "file_extension": ".py",
   "mimetype": "text/x-python",
   "name": "python",
   "nbconvert_exporter": "python",
   "pygments_lexer": "ipython3",
   "version": "3.11.10"
  }
 },
 "nbformat": 4,
 "nbformat_minor": 2
}
