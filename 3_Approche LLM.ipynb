{
 "cells": [
  {
   "cell_type": "markdown",
   "metadata": {},
   "source": [
    "# Approche de classification avec un llm en utilisant l'API de ollama"
   ]
  },
  {
   "cell_type": "markdown",
   "metadata": {},
   "source": [
    "## 1 Chargement des données"
   ]
  },
  {
   "cell_type": "code",
   "execution_count": 11,
   "metadata": {},
   "outputs": [],
   "source": [
    "from pathlib import Path\n",
    "from dataset import load_data_film\n",
    "\n",
    "\n",
    "DATASET_PATH_TRAIN = Path(\"data/aclImdb/train\")\n",
    "DATASET_PATH_TEST = Path(\"data/aclImdb/test\")\n",
    "\n",
    "NB_DOC_MAX_Tr = 1000 # par classe\n",
    "NB_DOC_MAX_Te = 100\n",
    "IMDB_CLASSES  = ['neg','pos']\n",
    "VOC_SIZE = 10000\n",
    "BATCH_SIZE = 32\n",
    "\n",
    "\n",
    "txts, files, filelabels = load_data_film(DATASET_PATH_TRAIN, max_size = NB_DOC_MAX_Tr)\n",
    "txts_test, files_test, labels_test = load_data_film(DATASET_PATH_TEST, max_size = NB_DOC_MAX_Te)"
   ]
  },
  {
   "cell_type": "markdown",
   "metadata": {},
   "source": [
    "## 2 Connexion avec API ollama"
   ]
  },
  {
   "cell_type": "code",
   "execution_count": 30,
   "metadata": {},
   "outputs": [
    {
     "name": "stdout",
     "output_type": "stream",
     "text": [
      "Alex D. Linz replaces Macaulay Culkin as the central figure in the third movie in the Home Alone empire. Four industrial spies acquire a missile guidance system computer chip and smuggle it through an airport inside a remote controlled toy car. Because of baggage confusion, grouchy Mrs. Hess (Marian Seldes) gets the car. She gives it to her neighbor, Alex (Linz), just before the spies turn up. The spies rent a house in order to burglarize each house in the neighborhood until they locate the car. Home alone with the chicken pox, Alex calls 911 each time he spots a theft in progress, but the spies always manage to elude the police while Alex is accused of making prank calls. The spies finally turn their attentions toward Alex, unaware that he has rigged devices to cleverly booby-trap his entire house. Home Alone 3 wasn't horrible, but probably shouldn't have been made, you can't just replace Macauley Culkin, Joe Pesci, or Daniel Stern. Home Alone 3 had some funny parts, but I don't like \n"
     ]
    }
   ],
   "source": [
    "import ollama\n",
    "import re\n",
    "\n",
    "def classification_zero_shot(exemple):\n",
    "    prompt = f\"Give the sentiment of the following text in one word: 'positive' or 'negative' :\\n\\n{exemple}\"\n",
    "    response = ollama.generate(model='qwen:0.5b',prompt=prompt)\n",
    "    pattern = r\"positive|negative\"\n",
    "    match = re.search(\"positive|negative\", response.response, flags=re.I)\n",
    "    if match:\n",
    "        if match.group(0).lower() == \"positive\":\n",
    "            return 1\n",
    "        else : \n",
    "            return 0\n",
    "    return response.response\n",
    "\n",
    "\n",
    "text_pos = 'Fair drama/love story movie that focuses on the lives of blue collar people\\\n",
    "finding new life thru new love.The acting here is good but the film fails in cinematography,screenplay,\\\n",
    "directing and editing.The story/script is only average at best.This film will be enjoyed by Fonda and De\\\n",
    "Niro fans and by people who love middle age love stories where in the coartship is on a more wiser and\\\n",
    "cautious level.It would also be interesting for people who are interested on the subject matter regarding illiteracy.......' #6_10 train\n",
    "\n",
    "text_neg = \"If I had not read Pat Barker's 'Union Street' before seeing this film, I would have liked it. \\\n",
    "Unfortuntately this is not the case. It is actually my kind of film, it is well made, and in no way do I\\\n",
    "want to say otherwise, but as an adaptation, it fails from every angle.<br /><br />The harrowing novel\\\n",
    "about the reality of living in a northern England working-class area grabbed hold of my heartstrings\\\n",
    "and refused to let go for weeks after I had finished. I was put through tears, repulsion, shock,\\\n",
    "anger, sympathy and misery when reading about the women of Union Street. Excellent. A novel \\\n",
    "that at times I felt I could not read any more of, but I novel I simply couldn't put down.\\\n",
    "Depressing yes, but utterly gripping.<br /><br />The film. Oh dear. Hollywood took Barker's truth and reality, \\\n",
    "and showered a layer of sweet icing sugar over the top of it. A beautiful\\\n",
    "film, an inspiring soundtrack, excellent performances, a tale of hope and romance...yes. An adaptation of \\\n",
    "'Union Street'...no.<br /><br />The women of Union Street and their stories are condensed into Fonda's character,\\\n",
    "their stories are touched on, but many are discarded. I accept that some of Barker's tales are sensitive issues and\\\n",
    "are too horrific for mass viewing, and that a film with around 7 leading protagonists just isn't practical, but\\\n",
    "the content is not my main issue. The essence and the real gut of the novel is lost - darkness and rain,\\\n",
    "broken windows covered with cardboard, and the graphically described stench of poverty is replaced with sunshine,\\\n",
    "pretty houses, and a twinkling William's score.<br /><br />If you enjoyed the film for its positivity and hope in the\\\n",
    "face of 'reality', I advise that you hesitate to read the book without first preparing yourself for something more like\\\n",
    "'Schindler's List'...but without the happy ending.\"\n",
    "\n",
    "\n",
    "def classification_few_shot(exemple):\n",
    "    prompt = f\"Give the sentiment of the following text in one word 'positive' or 'negative'. Here is some example \\n Input : {text_pos[:1000]} - Expected output : positive \\n Input : {text_neg[:1000]} - Expected output : negative \\n \\n\\n{exemple}\"\n",
    "    response = ollama.generate(model='qwen:0.5b',prompt=prompt)\n",
    "    pattern = r\"positive|negative\"\n",
    "    match = re.search(\"positive|negative\", response.response, flags=re.I)\n",
    "    if match:\n",
    "        if match.group(0).lower() == \"positive\":\n",
    "            return 1\n",
    "        else : \n",
    "            return 0\n",
    "    return response.response\n",
    "\n",
    "\n",
    "print(txts[1])\n"
   ]
  },
  {
   "cell_type": "code",
   "execution_count": 18,
   "metadata": {},
   "outputs": [
    {
     "data": {
      "text/plain": [
       "0"
      ]
     },
     "execution_count": 18,
     "metadata": {},
     "output_type": "execute_result"
    }
   ],
   "source": [
    "classification_zero_shot(txts[102])"
   ]
  },
  {
   "cell_type": "markdown",
   "metadata": {},
   "source": [
    "## 3 Performance du modèle zero-shot"
   ]
  },
  {
   "cell_type": "code",
   "execution_count": 13,
   "metadata": {},
   "outputs": [
    {
     "name": "stdout",
     "output_type": "stream",
     "text": [
      "[163, 28, 6, 189, 70, 62, 57, 35, 188, 26, 173, 139, 22, 151, 108, 8, 7, 23, 55, 59, 129, 154, 197, 143, 50, 166, 191, 107, 56, 114, 150, 71, 1, 40, 185, 87, 168, 39, 181, 86, 190, 182, 97, 24, 91, 88, 67, 11, 117, 137, 31, 96, 20, 141, 75, 92, 49, 17, 152, 58]\n"
     ]
    }
   ],
   "source": [
    "import random as rd\n",
    "import numpy as np\n",
    "\n",
    "\n",
    "rd.seed(42)\n",
    "\n",
    "test_idx = rd.sample([i for i in range(2*NB_DOC_MAX_Te)], k = int(0.3 * NB_DOC_MAX_Te * 2))\n",
    "\n",
    "test_txt = txts_test[test_idx]; val_txt = np.delete(txts_test,test_idx)\n",
    "test_label = labels_test[test_idx]; val_label = np.delete(labels_test,test_idx) \n",
    "\n",
    "print(test_idx)\n",
    "\n",
    "data = val_txt\n",
    "labels = val_label\n",
    "\n"
   ]
  },
  {
   "cell_type": "code",
   "execution_count": 31,
   "metadata": {},
   "outputs": [
    {
     "name": "stderr",
     "output_type": "stream",
     "text": [
      "100%|██████████| 100/100 [05:50<00:00,  3.51s/it]"
     ]
    },
    {
     "name": "stdout",
     "output_type": "stream",
     "text": [
      "['1'\n",
      " 'mentiment towards his father, Sandy, who has been caught using marijuana.'\n",
      " 'subways have made me even jadged to movie gore.' '0' '0' '1' '0' '0'\n",
      " \"like the movie serious, but it doesn't feel too much like a parody.\" '0'\n",
      " '0' '0' '0'\n",
      " \"father.\\n\\nI watched that movie yesterday with my father.\\n\\nThat's the best thriller of 1999!\"\n",
      " '0' '0' '1' '0' '0' '0' '0' '0' '0' '0'\n",
      " '是一部充满刺激和痛苦的电影，讲述了主角面对危险和困境时的内心挣扎和无助。总的来说，这部电影充满了紧张感和挑战性，同时也反映了人类对于未知和恐惧的追求。'\n",
      " 'realize that they are not different in their field of study. This creates a sense of confusion and frustration among the characters.\\n\\nAdditionally, the use of college shootings as the focal point for its script highlights the lack of critical thinking skills among the characters.\\n\\nTherefore, the text expresses disappointment and frustration among the characters.'\n",
      " '0' '0' '0' '1' '0' '1' '0' '0' '0' 'for the love of their country.' '钝.'\n",
      " '0' '0' 'shocking'\n",
      " 'is still present, so we copy it from another world multiple times.' '0'\n",
      " '0' '1'\n",
      " 't, the second half of the film becomes increasingly tedious and uninteresting. The script is so dull that it becomes unbearable to watch. As a result, the film does not provide any entertainment.'\n",
      " '神明，何时结束...确定，其他宇宙。' '0' '0' '0' '0'\n",
      " 'You are right that \"The Box\" is not for me, so I will not have a reaction. However, you are correct that \"SPOilers\"? They do have interesting parts, but they can be confusing and annoying at times. However, overall, \"The Box\" is entertaining, and it may take some time to fully appreciate its plot and themes.'\n",
      " '0' 'repentment is minimal.' '0' '0'\n",
      " \"fear that if one doesn't survive, another may also die.\\n\\nIn the film, the creature's survival relies on the ability of its host to breathe, and on the ability of the creature itself to adapt to the changes in the environment.\\n\\nOverall, the film suggests that our physical bodies have limitations that allow certain things to happen. However, these limitations can be overcome by learning how to adapt to the changing circumstances within our bodies.\"\n",
      " '0' '0' 'loves the company, the children, her family.' '0' 'upended.' '0'\n",
      " '0' '0' '0' '0' '0' 'tear.' '积极性\\n\\n积极评价' '0' '0' '0'\n",
      " \"sues about as the 'witch' dies in front of her husband. Jane is a child, but Tommy is a teenager.\"\n",
      " '1'\n",
      " ' survivors of the earthquake.\\n\\nThe text expresses strong emotions, including love, loss, and survival. The author uses vivid language to describe their experiences and feelings. Overall, the text conveys a complex emotional experience that requires deeper understanding.'\n",
      " '1' '0' '1' '0'\n",
      " 'oved the world with his writing. The film has been praised for its vivid portrayal of Prescott\\'s world and its characters.\\n\\nOne of the most memorable aspects of \"The Ghost Walks\" is the way in which it explores the complex relationship between Prescott and the supernatural.\\n\\nOverall, \"The Ghost Walks\" is a masterful film that explores themes of power, identity, and acceptance.'\n",
      " '0'\n",
      " \"Rise\\n\\nTo appreciate this film a little more, try finding out about Pudovkin' s and Kuleshov' s theories of montage, for example, or read the Wikipedia entry on Marxist Film Theory. If you're feeling really bold, you might even investigate the triadic forms of Hegelian dialectic.<br 三十年\\n\\nTo appreciate this film a little more, try finding out about Pudovkin' s and Kuleshov' s theories of montage, for example, or read the Wikipedia entry on Marxist Film Theory. If you're feeling really bold, you might even investigate\"\n",
      " '1' '0' '0' '1' '1' '1' '1' '1' '1' '1' '1' '0'\n",
      " 'rckton film. It has a rating of 9.5/10 on Rotten Tomatoes. It has been listed in many film databases and has been featured in numerous media outlets including TV shows, movies, and books.'\n",
      " '1' '1' '1' '0' '1']\n"
     ]
    },
    {
     "name": "stderr",
     "output_type": "stream",
     "text": [
      "\n"
     ]
    }
   ],
   "source": [
    "from tqdm import tqdm\n",
    "NUMBER_VAL = 100\n",
    "\n",
    "output = []\n",
    "for txt in tqdm(val_txt[:100]):\n",
    "    output.append(classification_zero_shot(txt))\n",
    "\n",
    "output = np.array(output)\n",
    "print(output)"
   ]
  },
  {
   "cell_type": "code",
   "execution_count": 22,
   "metadata": {},
   "outputs": [],
   "source": [
    "accuracy = (output == val_label[:100]).sum()/100\n",
    "non_conclusive = (output == None).sum()/100"
   ]
  },
  {
   "cell_type": "code",
   "execution_count": 23,
   "metadata": {},
   "outputs": [
    {
     "name": "stdout",
     "output_type": "stream",
     "text": [
      "0.56 0.27\n"
     ]
    }
   ],
   "source": [
    "print(accuracy, non_conclusive)"
   ]
  },
  {
   "cell_type": "markdown",
   "metadata": {},
   "source": [
    "avec un autre modèle ?"
   ]
  },
  {
   "cell_type": "markdown",
   "metadata": {},
   "source": [
    "## 4 Performance d'un modèle few-shot"
   ]
  },
  {
   "cell_type": "code",
   "execution_count": 26,
   "metadata": {},
   "outputs": [
    {
     "name": "stderr",
     "output_type": "stream",
     "text": [
      "100%|██████████| 100/100 [11:23<00:00,  6.83s/it]"
     ]
    },
    {
     "name": "stdout",
     "output_type": "stream",
     "text": [
      "[0 None 1 None 0 1 0 1 None 0 0 0 0 None None 0 1 None 0 None None 0 0 0\n",
      " None 1 0 0 0 1 0 None 0 None None 0 None 0 0 None None None 0 0 None None\n",
      " 0 0 None None None 0 None 1 0 0 0 0 None 0 0 0 0 0 None 0 0 0 None None 0\n",
      " None 0 1 None 0 0 1 0 None None None 1 0 1 None 1 0 None 1 None None 1\n",
      " None None 1 1 0 1 None]\n"
     ]
    },
    {
     "name": "stderr",
     "output_type": "stream",
     "text": [
      "\n"
     ]
    }
   ],
   "source": [
    "from tqdm import tqdm\n",
    "NUMBER_VAL = 100\n",
    "\n",
    "output = []\n",
    "for txt in tqdm(val_txt[:100]):\n",
    "    output.append(classification_few_shot(txt))\n",
    "\n",
    "output = np.array(output)\n",
    "print(output)"
   ]
  },
  {
   "cell_type": "code",
   "execution_count": 27,
   "metadata": {},
   "outputs": [],
   "source": [
    "accuracy = (output == val_label[:100]).sum()/100\n",
    "non_conclusive = (output == None).sum()/100"
   ]
  },
  {
   "cell_type": "code",
   "execution_count": 28,
   "metadata": {},
   "outputs": [
    {
     "name": "stdout",
     "output_type": "stream",
     "text": [
      "0.44 0.38\n"
     ]
    }
   ],
   "source": [
    "print(accuracy,non_conclusive)"
   ]
  },
  {
   "cell_type": "markdown",
   "metadata": {},
   "source": [
    "## Campagne de fine-tuning\n",
    "Objectif de la campagne : \n",
    " - tester plusieurs prompts : prompt naif/ prompt généré par chatgpt\n",
    " - format de sorti : text + regexp / json \n",
    " - modèle : qwen / qwen2 / qwen2.5\n",
    "\n",
    "\n",
    "#### Plot les variations de perf en fonction de l'approche choisie"
   ]
  }
 ],
 "metadata": {
  "kernelspec": {
   "display_name": "Python 3",
   "language": "python",
   "name": "python3"
  },
  "language_info": {
   "codemirror_mode": {
    "name": "ipython",
    "version": 3
   },
   "file_extension": ".py",
   "mimetype": "text/x-python",
   "name": "python",
   "nbconvert_exporter": "python",
   "pygments_lexer": "ipython3",
   "version": "3.11.10"
  }
 },
 "nbformat": 4,
 "nbformat_minor": 2
}
